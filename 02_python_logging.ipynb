{
 "cells": [
  {
   "cell_type": "code",
   "execution_count": 42,
   "metadata": {},
   "outputs": [
    {
     "name": "stderr",
     "output_type": "stream",
     "text": [
      "INFO:[file1.py]:[function_1]: Strart to do something\n",
      "DEBUG:[file1.py]:[function_2]: Value:7\n",
      "INFO:[file1.py]:[function_3]: The host is 'www.acme.com'\n",
      "INFO:[file1.py]:[function_4]: 'The time to pay is good'\n"
     ]
    }
   ],
   "source": [
    "import logging\n",
    "logging.basicConfig(level=logging.DEBUG,filename='file1.log') # Logs saved in 'home' folder as 'file1.log'\n",
    "logger = logging.getLogger('[file1.py]')\n",
    "\n",
    "# e.g : TEST\n",
    "output1 = 'The time to pay is good'\n",
    "output2 = 'The time to pay is running out'\n",
    "\n",
    "# e.g : VARIABLES\n",
    "product_id = 4\n",
    "\n",
    "day = 19          # e.g : changing the date variable changes the logging level of fuction_4\n",
    "\n",
    "class fuction_1(object):\n",
    "    def do_something(self):\n",
    "        logger.info('[function_1]: Strart to do something')\n",
    "        \n",
    "class fuction_2(object):\n",
    "    def do_something(self):\n",
    "        product_id = 7     # Supoust the fuction_2 upgrade the product_id to the ultimate of some list \n",
    "        logger.debug('[function_2]: Value:%r', product_id)\n",
    "        \n",
    "class fuction_3(object):\n",
    "    def do_something(self):\n",
    "        host = 'www.acme.com'   # Another variabale...\n",
    "        logger.info('[function_3]: The host is %r', host)\n",
    "        \n",
    "class fuction_4(object):\n",
    "    def do_something(self):\n",
    "        if day <= 20:\n",
    "            logger.info('[function_4]: %r', output1)\n",
    "        if day > 20:\n",
    "            logger.warning('[function_4]: %r', output2)\n",
    "        \n",
    "if __name__ == '__main__':\n",
    "    object1 = fuction_1()\n",
    "    object1.do_something()\n",
    "\n",
    "    object2 = fuction_2()\n",
    "    object2.do_something()\n",
    "    \n",
    "    object3 = fuction_3()\n",
    "    object3.do_something()\n",
    "    \n",
    "    object4 = fuction_4()\n",
    "    object4.do_something()\n",
    "\n",
    "    \n"
   ]
  },
  {
   "cell_type": "code",
   "execution_count": null,
   "metadata": {},
   "outputs": [],
   "source": []
  },
  {
   "cell_type": "code",
   "execution_count": null,
   "metadata": {},
   "outputs": [],
   "source": []
  },
  {
   "cell_type": "code",
   "execution_count": null,
   "metadata": {},
   "outputs": [],
   "source": []
  }
 ],
 "metadata": {
  "kernelspec": {
   "display_name": "Python 3",
   "language": "python",
   "name": "python3"
  },
  "language_info": {
   "codemirror_mode": {
    "name": "ipython",
    "version": 3
   },
   "file_extension": ".py",
   "mimetype": "text/x-python",
   "name": "python",
   "nbconvert_exporter": "python",
   "pygments_lexer": "ipython3",
   "version": "3.8.5"
  }
 },
 "nbformat": 4,
 "nbformat_minor": 4
}
